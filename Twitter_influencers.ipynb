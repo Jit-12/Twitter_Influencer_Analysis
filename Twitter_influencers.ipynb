{
 "cells": [
  {
   "cell_type": "code",
   "execution_count": 40,
   "id": "3121bfc8",
   "metadata": {},
   "outputs": [
    {
     "name": "stdout",
     "output_type": "stream",
     "text": [
      "Populating the interactive namespace from numpy and matplotlib\n"
     ]
    }
   ],
   "source": [
    "import numpy as np\n",
    "import pandas as pd\n",
    "import matplotlib.pyplot as plt\n",
    "%matplotlib inline\n",
    "%pylab inline\n",
    "import seaborn as sns"
   ]
  },
  {
   "cell_type": "markdown",
   "id": "45897dd2",
   "metadata": {},
   "source": [
    "The data is taken from: \"https://www.kaggle.com/competitions/predict-who-is-more-influential-in-a-social-network\""
   ]
  },
  {
   "cell_type": "markdown",
   "id": "327bb660",
   "metadata": {},
   "source": [
    "## About the dataset\n",
    "The dataset has 11 variables describing each person's Twiiter Activity. These variables are:\n",
    "\n",
    "- Follower Count: Number of followers of the person on Twitter\n",
    "- Follwoing Count: Number of Twitter users the person follows\n",
    "- Listed Count: Number of people that have added the person to a list\n",
    "- Mentions Received: Number of times people have mentioned (@) the person\n",
    "- Retweets Received: Number of times a tweet was retweeted\n",
    "- Mentions Sent: Number of times the person mentioned (@) someone\n",
    "- Retweets Sent: Number of times the person retweet a tweet\n",
    "- Posts: Number of posts\n",
    "- Network Feature 1, 2, 3: Local follower network of the person"
   ]
  },
  {
   "cell_type": "code",
   "execution_count": 41,
   "id": "75ec62da",
   "metadata": {},
   "outputs": [
    {
     "data": {
      "text/html": [
       "<div>\n",
       "<style scoped>\n",
       "    .dataframe tbody tr th:only-of-type {\n",
       "        vertical-align: middle;\n",
       "    }\n",
       "\n",
       "    .dataframe tbody tr th {\n",
       "        vertical-align: top;\n",
       "    }\n",
       "\n",
       "    .dataframe thead th {\n",
       "        text-align: right;\n",
       "    }\n",
       "</style>\n",
       "<table border=\"1\" class=\"dataframe\">\n",
       "  <thead>\n",
       "    <tr style=\"text-align: right;\">\n",
       "      <th></th>\n",
       "      <th>Choice</th>\n",
       "      <th>A_follower_count</th>\n",
       "      <th>A_following_count</th>\n",
       "      <th>A_listed_count</th>\n",
       "      <th>A_mentions_received</th>\n",
       "      <th>A_retweets_received</th>\n",
       "      <th>A_mentions_sent</th>\n",
       "      <th>A_retweets_sent</th>\n",
       "      <th>A_posts</th>\n",
       "      <th>A_network_feature_1</th>\n",
       "      <th>...</th>\n",
       "      <th>B_following_count</th>\n",
       "      <th>B_listed_count</th>\n",
       "      <th>B_mentions_received</th>\n",
       "      <th>B_retweets_received</th>\n",
       "      <th>B_mentions_sent</th>\n",
       "      <th>B_retweets_sent</th>\n",
       "      <th>B_posts</th>\n",
       "      <th>B_network_feature_1</th>\n",
       "      <th>B_network_feature_2</th>\n",
       "      <th>B_network_feature_3</th>\n",
       "    </tr>\n",
       "  </thead>\n",
       "  <tbody>\n",
       "    <tr>\n",
       "      <th>0</th>\n",
       "      <td>0</td>\n",
       "      <td>228</td>\n",
       "      <td>302</td>\n",
       "      <td>3</td>\n",
       "      <td>0.583979</td>\n",
       "      <td>0.100503</td>\n",
       "      <td>0.100503</td>\n",
       "      <td>0.100503</td>\n",
       "      <td>0.362150</td>\n",
       "      <td>2</td>\n",
       "      <td>...</td>\n",
       "      <td>29808</td>\n",
       "      <td>1689</td>\n",
       "      <td>15.430498</td>\n",
       "      <td>3.984029</td>\n",
       "      <td>8.204331</td>\n",
       "      <td>0.332423</td>\n",
       "      <td>6.988815</td>\n",
       "      <td>66</td>\n",
       "      <td>75.530303</td>\n",
       "      <td>1916.893939</td>\n",
       "    </tr>\n",
       "    <tr>\n",
       "      <th>1</th>\n",
       "      <td>0</td>\n",
       "      <td>21591</td>\n",
       "      <td>1179</td>\n",
       "      <td>228</td>\n",
       "      <td>90.456506</td>\n",
       "      <td>25.798292</td>\n",
       "      <td>5.709329</td>\n",
       "      <td>1.111159</td>\n",
       "      <td>5.176620</td>\n",
       "      <td>369</td>\n",
       "      <td>...</td>\n",
       "      <td>848</td>\n",
       "      <td>1610</td>\n",
       "      <td>40.495021</td>\n",
       "      <td>8.943607</td>\n",
       "      <td>3.227677</td>\n",
       "      <td>0.564343</td>\n",
       "      <td>1.070321</td>\n",
       "      <td>163</td>\n",
       "      <td>132.030675</td>\n",
       "      <td>2931.515337</td>\n",
       "    </tr>\n",
       "    <tr>\n",
       "      <th>2</th>\n",
       "      <td>0</td>\n",
       "      <td>7310</td>\n",
       "      <td>1215</td>\n",
       "      <td>101</td>\n",
       "      <td>25.503644</td>\n",
       "      <td>9.556347</td>\n",
       "      <td>5.361519</td>\n",
       "      <td>0.591206</td>\n",
       "      <td>3.589718</td>\n",
       "      <td>95</td>\n",
       "      <td>...</td>\n",
       "      <td>482</td>\n",
       "      <td>206</td>\n",
       "      <td>0.734696</td>\n",
       "      <td>0.354379</td>\n",
       "      <td>0.603202</td>\n",
       "      <td>0.100503</td>\n",
       "      <td>0.603202</td>\n",
       "      <td>3</td>\n",
       "      <td>10.333333</td>\n",
       "      <td>277.333333</td>\n",
       "    </tr>\n",
       "    <tr>\n",
       "      <th>3</th>\n",
       "      <td>0</td>\n",
       "      <td>20</td>\n",
       "      <td>7</td>\n",
       "      <td>2</td>\n",
       "      <td>7.690824</td>\n",
       "      <td>0.277306</td>\n",
       "      <td>1.331508</td>\n",
       "      <td>0.100503</td>\n",
       "      <td>2.830627</td>\n",
       "      <td>6</td>\n",
       "      <td>...</td>\n",
       "      <td>17637</td>\n",
       "      <td>278</td>\n",
       "      <td>572.874856</td>\n",
       "      <td>390.293681</td>\n",
       "      <td>27.552040</td>\n",
       "      <td>7.167557</td>\n",
       "      <td>32.101906</td>\n",
       "      <td>1762</td>\n",
       "      <td>23.469296</td>\n",
       "      <td>1395.845634</td>\n",
       "    </tr>\n",
       "    <tr>\n",
       "      <th>4</th>\n",
       "      <td>1</td>\n",
       "      <td>45589</td>\n",
       "      <td>862</td>\n",
       "      <td>2641</td>\n",
       "      <td>148.854279</td>\n",
       "      <td>36.998884</td>\n",
       "      <td>27.881768</td>\n",
       "      <td>3.333492</td>\n",
       "      <td>23.861282</td>\n",
       "      <td>551</td>\n",
       "      <td>...</td>\n",
       "      <td>1711</td>\n",
       "      <td>181</td>\n",
       "      <td>21.601866</td>\n",
       "      <td>3.581661</td>\n",
       "      <td>6.764657</td>\n",
       "      <td>1.119727</td>\n",
       "      <td>4.563246</td>\n",
       "      <td>85</td>\n",
       "      <td>48.500000</td>\n",
       "      <td>1993.627907</td>\n",
       "    </tr>\n",
       "  </tbody>\n",
       "</table>\n",
       "<p>5 rows × 23 columns</p>\n",
       "</div>"
      ],
      "text/plain": [
       "   Choice  A_follower_count  A_following_count  A_listed_count  \\\n",
       "0       0               228                302               3   \n",
       "1       0             21591               1179             228   \n",
       "2       0              7310               1215             101   \n",
       "3       0                20                  7               2   \n",
       "4       1             45589                862            2641   \n",
       "\n",
       "   A_mentions_received  A_retweets_received  A_mentions_sent  A_retweets_sent  \\\n",
       "0             0.583979             0.100503         0.100503         0.100503   \n",
       "1            90.456506            25.798292         5.709329         1.111159   \n",
       "2            25.503644             9.556347         5.361519         0.591206   \n",
       "3             7.690824             0.277306         1.331508         0.100503   \n",
       "4           148.854279            36.998884        27.881768         3.333492   \n",
       "\n",
       "     A_posts  A_network_feature_1  ...  B_following_count  B_listed_count  \\\n",
       "0   0.362150                    2  ...              29808            1689   \n",
       "1   5.176620                  369  ...                848            1610   \n",
       "2   3.589718                   95  ...                482             206   \n",
       "3   2.830627                    6  ...              17637             278   \n",
       "4  23.861282                  551  ...               1711             181   \n",
       "\n",
       "   B_mentions_received  B_retweets_received  B_mentions_sent  B_retweets_sent  \\\n",
       "0            15.430498             3.984029         8.204331         0.332423   \n",
       "1            40.495021             8.943607         3.227677         0.564343   \n",
       "2             0.734696             0.354379         0.603202         0.100503   \n",
       "3           572.874856           390.293681        27.552040         7.167557   \n",
       "4            21.601866             3.581661         6.764657         1.119727   \n",
       "\n",
       "     B_posts  B_network_feature_1  B_network_feature_2  B_network_feature_3  \n",
       "0   6.988815                   66            75.530303          1916.893939  \n",
       "1   1.070321                  163           132.030675          2931.515337  \n",
       "2   0.603202                    3            10.333333           277.333333  \n",
       "3  32.101906                 1762            23.469296          1395.845634  \n",
       "4   4.563246                   85            48.500000          1993.627907  \n",
       "\n",
       "[5 rows x 23 columns]"
      ]
     },
     "execution_count": 41,
     "metadata": {},
     "output_type": "execute_result"
    }
   ],
   "source": [
    "Twitter_train = pd.read_csv(\"train.csv\")\n",
    "Twitter_train.head()"
   ]
  },
  {
   "cell_type": "code",
   "execution_count": 42,
   "id": "3141706b",
   "metadata": {},
   "outputs": [
    {
     "data": {
      "text/html": [
       "<div>\n",
       "<style scoped>\n",
       "    .dataframe tbody tr th:only-of-type {\n",
       "        vertical-align: middle;\n",
       "    }\n",
       "\n",
       "    .dataframe tbody tr th {\n",
       "        vertical-align: top;\n",
       "    }\n",
       "\n",
       "    .dataframe thead th {\n",
       "        text-align: right;\n",
       "    }\n",
       "</style>\n",
       "<table border=\"1\" class=\"dataframe\">\n",
       "  <thead>\n",
       "    <tr style=\"text-align: right;\">\n",
       "      <th></th>\n",
       "      <th>A_follower_count</th>\n",
       "      <th>A_following_count</th>\n",
       "      <th>A_listed_count</th>\n",
       "      <th>A_mentions_received</th>\n",
       "      <th>A_retweets_received</th>\n",
       "      <th>A_mentions_sent</th>\n",
       "      <th>A_retweets_sent</th>\n",
       "      <th>A_posts</th>\n",
       "      <th>A_network_feature_1</th>\n",
       "      <th>A_network_feature_2</th>\n",
       "      <th>...</th>\n",
       "      <th>B_following_count</th>\n",
       "      <th>B_listed_count</th>\n",
       "      <th>B_mentions_received</th>\n",
       "      <th>B_retweets_received</th>\n",
       "      <th>B_mentions_sent</th>\n",
       "      <th>B_retweets_sent</th>\n",
       "      <th>B_posts</th>\n",
       "      <th>B_network_feature_1</th>\n",
       "      <th>B_network_feature_2</th>\n",
       "      <th>B_network_feature_3</th>\n",
       "    </tr>\n",
       "  </thead>\n",
       "  <tbody>\n",
       "    <tr>\n",
       "      <th>0</th>\n",
       "      <td>614689</td>\n",
       "      <td>400</td>\n",
       "      <td>5729</td>\n",
       "      <td>199.618296</td>\n",
       "      <td>67.812469</td>\n",
       "      <td>9.366192</td>\n",
       "      <td>0.359534</td>\n",
       "      <td>4.094488</td>\n",
       "      <td>669</td>\n",
       "      <td>39.193741</td>\n",
       "      <td>...</td>\n",
       "      <td>563</td>\n",
       "      <td>20057</td>\n",
       "      <td>967.720642</td>\n",
       "      <td>579.431128</td>\n",
       "      <td>4.473798</td>\n",
       "      <td>0.805680</td>\n",
       "      <td>6.241806</td>\n",
       "      <td>4027</td>\n",
       "      <td>57.643839</td>\n",
       "      <td>3201.293706</td>\n",
       "    </tr>\n",
       "    <tr>\n",
       "      <th>1</th>\n",
       "      <td>739581</td>\n",
       "      <td>10723</td>\n",
       "      <td>1279</td>\n",
       "      <td>102.026750</td>\n",
       "      <td>96.771319</td>\n",
       "      <td>1.537322</td>\n",
       "      <td>1.054358</td>\n",
       "      <td>3.467754</td>\n",
       "      <td>432</td>\n",
       "      <td>11.191686</td>\n",
       "      <td>...</td>\n",
       "      <td>12949</td>\n",
       "      <td>1311</td>\n",
       "      <td>38.260522</td>\n",
       "      <td>10.697567</td>\n",
       "      <td>12.845793</td>\n",
       "      <td>1.584284</td>\n",
       "      <td>12.106662</td>\n",
       "      <td>144</td>\n",
       "      <td>209.717241</td>\n",
       "      <td>21496.565517</td>\n",
       "    </tr>\n",
       "    <tr>\n",
       "      <th>2</th>\n",
       "      <td>3638</td>\n",
       "      <td>3341</td>\n",
       "      <td>85</td>\n",
       "      <td>2.793577</td>\n",
       "      <td>1.402703</td>\n",
       "      <td>2.594089</td>\n",
       "      <td>0.598150</td>\n",
       "      <td>3.802143</td>\n",
       "      <td>11</td>\n",
       "      <td>9.416667</td>\n",
       "      <td>...</td>\n",
       "      <td>320</td>\n",
       "      <td>3673</td>\n",
       "      <td>1207.190077</td>\n",
       "      <td>599.721600</td>\n",
       "      <td>0.842022</td>\n",
       "      <td>0.593199</td>\n",
       "      <td>7.044735</td>\n",
       "      <td>3918</td>\n",
       "      <td>7.859818</td>\n",
       "      <td>637.983300</td>\n",
       "    </tr>\n",
       "    <tr>\n",
       "      <th>3</th>\n",
       "      <td>613</td>\n",
       "      <td>1259</td>\n",
       "      <td>31</td>\n",
       "      <td>1.326041</td>\n",
       "      <td>0.356943</td>\n",
       "      <td>6.249678</td>\n",
       "      <td>2.323064</td>\n",
       "      <td>7.488116</td>\n",
       "      <td>4</td>\n",
       "      <td>5.000000</td>\n",
       "      <td>...</td>\n",
       "      <td>3599</td>\n",
       "      <td>1072</td>\n",
       "      <td>10.300222</td>\n",
       "      <td>3.828561</td>\n",
       "      <td>1.624092</td>\n",
       "      <td>0.100503</td>\n",
       "      <td>1.614287</td>\n",
       "      <td>43</td>\n",
       "      <td>113.840909</td>\n",
       "      <td>2537.772727</td>\n",
       "    </tr>\n",
       "    <tr>\n",
       "      <th>4</th>\n",
       "      <td>1352348</td>\n",
       "      <td>331</td>\n",
       "      <td>15647</td>\n",
       "      <td>19129.848662</td>\n",
       "      <td>14552.733991</td>\n",
       "      <td>2.065418</td>\n",
       "      <td>0.580955</td>\n",
       "      <td>16.281502</td>\n",
       "      <td>52580</td>\n",
       "      <td>3.092448</td>\n",
       "      <td>...</td>\n",
       "      <td>147521</td>\n",
       "      <td>15043</td>\n",
       "      <td>9902.070379</td>\n",
       "      <td>5012.055876</td>\n",
       "      <td>10.438460</td>\n",
       "      <td>0.100503</td>\n",
       "      <td>193.072418</td>\n",
       "      <td>28564</td>\n",
       "      <td>10.964144</td>\n",
       "      <td>1035.955493</td>\n",
       "    </tr>\n",
       "  </tbody>\n",
       "</table>\n",
       "<p>5 rows × 22 columns</p>\n",
       "</div>"
      ],
      "text/plain": [
       "   A_follower_count  A_following_count  A_listed_count  A_mentions_received  \\\n",
       "0            614689                400            5729           199.618296   \n",
       "1            739581              10723            1279           102.026750   \n",
       "2              3638               3341              85             2.793577   \n",
       "3               613               1259              31             1.326041   \n",
       "4           1352348                331           15647         19129.848662   \n",
       "\n",
       "   A_retweets_received  A_mentions_sent  A_retweets_sent    A_posts  \\\n",
       "0            67.812469         9.366192         0.359534   4.094488   \n",
       "1            96.771319         1.537322         1.054358   3.467754   \n",
       "2             1.402703         2.594089         0.598150   3.802143   \n",
       "3             0.356943         6.249678         2.323064   7.488116   \n",
       "4         14552.733991         2.065418         0.580955  16.281502   \n",
       "\n",
       "   A_network_feature_1  A_network_feature_2  ...  B_following_count  \\\n",
       "0                  669            39.193741  ...                563   \n",
       "1                  432            11.191686  ...              12949   \n",
       "2                   11             9.416667  ...                320   \n",
       "3                    4             5.000000  ...               3599   \n",
       "4                52580             3.092448  ...             147521   \n",
       "\n",
       "   B_listed_count  B_mentions_received  B_retweets_received  B_mentions_sent  \\\n",
       "0           20057           967.720642           579.431128         4.473798   \n",
       "1            1311            38.260522            10.697567        12.845793   \n",
       "2            3673          1207.190077           599.721600         0.842022   \n",
       "3            1072            10.300222             3.828561         1.624092   \n",
       "4           15043          9902.070379          5012.055876        10.438460   \n",
       "\n",
       "   B_retweets_sent     B_posts  B_network_feature_1  B_network_feature_2  \\\n",
       "0         0.805680    6.241806                 4027            57.643839   \n",
       "1         1.584284   12.106662                  144           209.717241   \n",
       "2         0.593199    7.044735                 3918             7.859818   \n",
       "3         0.100503    1.614287                   43           113.840909   \n",
       "4         0.100503  193.072418                28564            10.964144   \n",
       "\n",
       "   B_network_feature_3  \n",
       "0          3201.293706  \n",
       "1         21496.565517  \n",
       "2           637.983300  \n",
       "3          2537.772727  \n",
       "4          1035.955493  \n",
       "\n",
       "[5 rows x 22 columns]"
      ]
     },
     "execution_count": 42,
     "metadata": {},
     "output_type": "execute_result"
    }
   ],
   "source": [
    "Twitter_test = pd.read_csv(\"test.csv\")\n",
    "Twitter_test.head()"
   ]
  },
  {
   "cell_type": "code",
   "execution_count": 43,
   "id": "c1cbf37a",
   "metadata": {},
   "outputs": [
    {
     "name": "stdout",
     "output_type": "stream",
     "text": [
      "<class 'pandas.core.frame.DataFrame'>\n",
      "RangeIndex: 5500 entries, 0 to 5499\n",
      "Data columns (total 23 columns):\n",
      " #   Column               Non-Null Count  Dtype  \n",
      "---  ------               --------------  -----  \n",
      " 0   Choice               5500 non-null   int64  \n",
      " 1   A_follower_count     5500 non-null   int64  \n",
      " 2   A_following_count    5500 non-null   int64  \n",
      " 3   A_listed_count       5500 non-null   int64  \n",
      " 4   A_mentions_received  5500 non-null   float64\n",
      " 5   A_retweets_received  5500 non-null   float64\n",
      " 6   A_mentions_sent      5500 non-null   float64\n",
      " 7   A_retweets_sent      5500 non-null   float64\n",
      " 8   A_posts              5500 non-null   float64\n",
      " 9   A_network_feature_1  5500 non-null   int64  \n",
      " 10  A_network_feature_2  5500 non-null   float64\n",
      " 11  A_network_feature_3  5500 non-null   float64\n",
      " 12  B_follower_count     5500 non-null   int64  \n",
      " 13  B_following_count    5500 non-null   int64  \n",
      " 14  B_listed_count       5500 non-null   int64  \n",
      " 15  B_mentions_received  5500 non-null   float64\n",
      " 16  B_retweets_received  5500 non-null   float64\n",
      " 17  B_mentions_sent      5500 non-null   float64\n",
      " 18  B_retweets_sent      5500 non-null   float64\n",
      " 19  B_posts              5500 non-null   float64\n",
      " 20  B_network_feature_1  5500 non-null   int64  \n",
      " 21  B_network_feature_2  5500 non-null   float64\n",
      " 22  B_network_feature_3  5500 non-null   float64\n",
      "dtypes: float64(14), int64(9)\n",
      "memory usage: 988.4 KB\n"
     ]
    }
   ],
   "source": [
    "Twitter_train.info()"
   ]
  },
  {
   "cell_type": "code",
   "execution_count": 44,
   "id": "adf31f03",
   "metadata": {},
   "outputs": [
    {
     "data": {
      "text/html": [
       "<div>\n",
       "<style scoped>\n",
       "    .dataframe tbody tr th:only-of-type {\n",
       "        vertical-align: middle;\n",
       "    }\n",
       "\n",
       "    .dataframe tbody tr th {\n",
       "        vertical-align: top;\n",
       "    }\n",
       "\n",
       "    .dataframe thead th {\n",
       "        text-align: right;\n",
       "    }\n",
       "</style>\n",
       "<table border=\"1\" class=\"dataframe\">\n",
       "  <thead>\n",
       "    <tr style=\"text-align: right;\">\n",
       "      <th></th>\n",
       "      <th>Choice</th>\n",
       "      <th>A_follower_count</th>\n",
       "      <th>A_following_count</th>\n",
       "      <th>A_listed_count</th>\n",
       "      <th>A_mentions_received</th>\n",
       "      <th>A_retweets_received</th>\n",
       "      <th>A_mentions_sent</th>\n",
       "      <th>A_retweets_sent</th>\n",
       "      <th>A_posts</th>\n",
       "      <th>A_network_feature_1</th>\n",
       "      <th>...</th>\n",
       "      <th>B_following_count</th>\n",
       "      <th>B_listed_count</th>\n",
       "      <th>B_mentions_received</th>\n",
       "      <th>B_retweets_received</th>\n",
       "      <th>B_mentions_sent</th>\n",
       "      <th>B_retweets_sent</th>\n",
       "      <th>B_posts</th>\n",
       "      <th>B_network_feature_1</th>\n",
       "      <th>B_network_feature_2</th>\n",
       "      <th>B_network_feature_3</th>\n",
       "    </tr>\n",
       "  </thead>\n",
       "  <tbody>\n",
       "    <tr>\n",
       "      <th>count</th>\n",
       "      <td>5500.000000</td>\n",
       "      <td>5.500000e+03</td>\n",
       "      <td>5.500000e+03</td>\n",
       "      <td>5500.000000</td>\n",
       "      <td>5.500000e+03</td>\n",
       "      <td>5500.000000</td>\n",
       "      <td>5500.000000</td>\n",
       "      <td>5500.000000</td>\n",
       "      <td>5500.000000</td>\n",
       "      <td>5500.000000</td>\n",
       "      <td>...</td>\n",
       "      <td>5500.000000</td>\n",
       "      <td>5500.000000</td>\n",
       "      <td>5.500000e+03</td>\n",
       "      <td>5500.000000</td>\n",
       "      <td>5500.000000</td>\n",
       "      <td>5500.000000</td>\n",
       "      <td>5500.000000</td>\n",
       "      <td>5500.000000</td>\n",
       "      <td>5500.000000</td>\n",
       "      <td>5500.000000</td>\n",
       "    </tr>\n",
       "    <tr>\n",
       "      <th>mean</th>\n",
       "      <td>0.509455</td>\n",
       "      <td>6.498840e+05</td>\n",
       "      <td>1.265895e+04</td>\n",
       "      <td>5952.453273</td>\n",
       "      <td>2.666032e+03</td>\n",
       "      <td>1032.371839</td>\n",
       "      <td>6.011873</td>\n",
       "      <td>1.109924</td>\n",
       "      <td>9.090730</td>\n",
       "      <td>5267.768000</td>\n",
       "      <td>...</td>\n",
       "      <td>12738.259818</td>\n",
       "      <td>5903.148364</td>\n",
       "      <td>2.554598e+03</td>\n",
       "      <td>997.149954</td>\n",
       "      <td>6.099658</td>\n",
       "      <td>1.106236</td>\n",
       "      <td>9.505821</td>\n",
       "      <td>5254.933636</td>\n",
       "      <td>85.024196</td>\n",
       "      <td>3745.175480</td>\n",
       "    </tr>\n",
       "    <tr>\n",
       "      <th>std</th>\n",
       "      <td>0.499956</td>\n",
       "      <td>2.028787e+06</td>\n",
       "      <td>4.900867e+04</td>\n",
       "      <td>17339.141191</td>\n",
       "      <td>2.916543e+04</td>\n",
       "      <td>10954.953223</td>\n",
       "      <td>9.519797</td>\n",
       "      <td>1.910104</td>\n",
       "      <td>18.311060</td>\n",
       "      <td>28946.777345</td>\n",
       "      <td>...</td>\n",
       "      <td>50054.520874</td>\n",
       "      <td>16298.462018</td>\n",
       "      <td>2.508873e+04</td>\n",
       "      <td>9342.006880</td>\n",
       "      <td>9.729557</td>\n",
       "      <td>1.939914</td>\n",
       "      <td>19.424680</td>\n",
       "      <td>26778.820125</td>\n",
       "      <td>106.689384</td>\n",
       "      <td>5518.399590</td>\n",
       "    </tr>\n",
       "    <tr>\n",
       "      <th>min</th>\n",
       "      <td>0.000000</td>\n",
       "      <td>1.600000e+01</td>\n",
       "      <td>0.000000e+00</td>\n",
       "      <td>0.000000</td>\n",
       "      <td>1.005034e-01</td>\n",
       "      <td>0.100503</td>\n",
       "      <td>0.100503</td>\n",
       "      <td>0.100503</td>\n",
       "      <td>0.100503</td>\n",
       "      <td>0.000000</td>\n",
       "      <td>...</td>\n",
       "      <td>0.000000</td>\n",
       "      <td>0.000000</td>\n",
       "      <td>1.005034e-01</td>\n",
       "      <td>0.100503</td>\n",
       "      <td>0.100503</td>\n",
       "      <td>0.100503</td>\n",
       "      <td>0.100503</td>\n",
       "      <td>0.000000</td>\n",
       "      <td>0.000000</td>\n",
       "      <td>0.000000</td>\n",
       "    </tr>\n",
       "    <tr>\n",
       "      <th>25%</th>\n",
       "      <td>0.000000</td>\n",
       "      <td>2.663750e+03</td>\n",
       "      <td>3.220000e+02</td>\n",
       "      <td>85.000000</td>\n",
       "      <td>3.453649e+00</td>\n",
       "      <td>0.716816</td>\n",
       "      <td>0.359534</td>\n",
       "      <td>0.100503</td>\n",
       "      <td>0.632440</td>\n",
       "      <td>12.000000</td>\n",
       "      <td>...</td>\n",
       "      <td>322.000000</td>\n",
       "      <td>75.000000</td>\n",
       "      <td>3.260473e+00</td>\n",
       "      <td>0.714556</td>\n",
       "      <td>0.356943</td>\n",
       "      <td>0.100503</td>\n",
       "      <td>0.822584</td>\n",
       "      <td>11.000000</td>\n",
       "      <td>15.176568</td>\n",
       "      <td>1206.500000</td>\n",
       "    </tr>\n",
       "    <tr>\n",
       "      <th>50%</th>\n",
       "      <td>1.000000</td>\n",
       "      <td>4.558900e+04</td>\n",
       "      <td>7.780000e+02</td>\n",
       "      <td>932.000000</td>\n",
       "      <td>4.876542e+01</td>\n",
       "      <td>14.029113</td>\n",
       "      <td>2.299666</td>\n",
       "      <td>0.341936</td>\n",
       "      <td>3.555194</td>\n",
       "      <td>195.000000</td>\n",
       "      <td>...</td>\n",
       "      <td>773.000000</td>\n",
       "      <td>890.000000</td>\n",
       "      <td>4.876542e+01</td>\n",
       "      <td>14.029113</td>\n",
       "      <td>2.251398</td>\n",
       "      <td>0.341936</td>\n",
       "      <td>3.342999</td>\n",
       "      <td>190.000000</td>\n",
       "      <td>54.925234</td>\n",
       "      <td>2206.420734</td>\n",
       "    </tr>\n",
       "    <tr>\n",
       "      <th>75%</th>\n",
       "      <td>1.000000</td>\n",
       "      <td>3.927380e+05</td>\n",
       "      <td>2.838000e+03</td>\n",
       "      <td>6734.000000</td>\n",
       "      <td>3.498196e+02</td>\n",
       "      <td>118.704407</td>\n",
       "      <td>7.198330</td>\n",
       "      <td>1.320681</td>\n",
       "      <td>10.691878</td>\n",
       "      <td>1323.000000</td>\n",
       "      <td>...</td>\n",
       "      <td>2838.000000</td>\n",
       "      <td>6734.000000</td>\n",
       "      <td>3.743699e+02</td>\n",
       "      <td>107.081021</td>\n",
       "      <td>6.866840</td>\n",
       "      <td>1.320681</td>\n",
       "      <td>10.600502</td>\n",
       "      <td>1323.000000</td>\n",
       "      <td>112.191489</td>\n",
       "      <td>4349.908608</td>\n",
       "    </tr>\n",
       "    <tr>\n",
       "      <th>max</th>\n",
       "      <td>1.000000</td>\n",
       "      <td>3.654319e+07</td>\n",
       "      <td>1.165830e+06</td>\n",
       "      <td>549144.000000</td>\n",
       "      <td>1.145219e+06</td>\n",
       "      <td>435825.874241</td>\n",
       "      <td>76.809514</td>\n",
       "      <td>16.290540</td>\n",
       "      <td>193.072418</td>\n",
       "      <td>920838.000000</td>\n",
       "      <td>...</td>\n",
       "      <td>664324.000000</td>\n",
       "      <td>549144.000000</td>\n",
       "      <td>1.145219e+06</td>\n",
       "      <td>435825.874241</td>\n",
       "      <td>76.809514</td>\n",
       "      <td>16.290540</td>\n",
       "      <td>193.072418</td>\n",
       "      <td>920838.000000</td>\n",
       "      <td>1861.583333</td>\n",
       "      <td>75526.083333</td>\n",
       "    </tr>\n",
       "  </tbody>\n",
       "</table>\n",
       "<p>8 rows × 23 columns</p>\n",
       "</div>"
      ],
      "text/plain": [
       "            Choice  A_follower_count  A_following_count  A_listed_count  \\\n",
       "count  5500.000000      5.500000e+03       5.500000e+03     5500.000000   \n",
       "mean      0.509455      6.498840e+05       1.265895e+04     5952.453273   \n",
       "std       0.499956      2.028787e+06       4.900867e+04    17339.141191   \n",
       "min       0.000000      1.600000e+01       0.000000e+00        0.000000   \n",
       "25%       0.000000      2.663750e+03       3.220000e+02       85.000000   \n",
       "50%       1.000000      4.558900e+04       7.780000e+02      932.000000   \n",
       "75%       1.000000      3.927380e+05       2.838000e+03     6734.000000   \n",
       "max       1.000000      3.654319e+07       1.165830e+06   549144.000000   \n",
       "\n",
       "       A_mentions_received  A_retweets_received  A_mentions_sent  \\\n",
       "count         5.500000e+03          5500.000000      5500.000000   \n",
       "mean          2.666032e+03          1032.371839         6.011873   \n",
       "std           2.916543e+04         10954.953223         9.519797   \n",
       "min           1.005034e-01             0.100503         0.100503   \n",
       "25%           3.453649e+00             0.716816         0.359534   \n",
       "50%           4.876542e+01            14.029113         2.299666   \n",
       "75%           3.498196e+02           118.704407         7.198330   \n",
       "max           1.145219e+06        435825.874241        76.809514   \n",
       "\n",
       "       A_retweets_sent      A_posts  A_network_feature_1  ...  \\\n",
       "count      5500.000000  5500.000000          5500.000000  ...   \n",
       "mean          1.109924     9.090730          5267.768000  ...   \n",
       "std           1.910104    18.311060         28946.777345  ...   \n",
       "min           0.100503     0.100503             0.000000  ...   \n",
       "25%           0.100503     0.632440            12.000000  ...   \n",
       "50%           0.341936     3.555194           195.000000  ...   \n",
       "75%           1.320681    10.691878          1323.000000  ...   \n",
       "max          16.290540   193.072418        920838.000000  ...   \n",
       "\n",
       "       B_following_count  B_listed_count  B_mentions_received  \\\n",
       "count        5500.000000     5500.000000         5.500000e+03   \n",
       "mean        12738.259818     5903.148364         2.554598e+03   \n",
       "std         50054.520874    16298.462018         2.508873e+04   \n",
       "min             0.000000        0.000000         1.005034e-01   \n",
       "25%           322.000000       75.000000         3.260473e+00   \n",
       "50%           773.000000      890.000000         4.876542e+01   \n",
       "75%          2838.000000     6734.000000         3.743699e+02   \n",
       "max        664324.000000   549144.000000         1.145219e+06   \n",
       "\n",
       "       B_retweets_received  B_mentions_sent  B_retweets_sent      B_posts  \\\n",
       "count          5500.000000      5500.000000      5500.000000  5500.000000   \n",
       "mean            997.149954         6.099658         1.106236     9.505821   \n",
       "std            9342.006880         9.729557         1.939914    19.424680   \n",
       "min               0.100503         0.100503         0.100503     0.100503   \n",
       "25%               0.714556         0.356943         0.100503     0.822584   \n",
       "50%              14.029113         2.251398         0.341936     3.342999   \n",
       "75%             107.081021         6.866840         1.320681    10.600502   \n",
       "max          435825.874241        76.809514        16.290540   193.072418   \n",
       "\n",
       "       B_network_feature_1  B_network_feature_2  B_network_feature_3  \n",
       "count          5500.000000          5500.000000          5500.000000  \n",
       "mean           5254.933636            85.024196          3745.175480  \n",
       "std           26778.820125           106.689384          5518.399590  \n",
       "min               0.000000             0.000000             0.000000  \n",
       "25%              11.000000            15.176568          1206.500000  \n",
       "50%             190.000000            54.925234          2206.420734  \n",
       "75%            1323.000000           112.191489          4349.908608  \n",
       "max          920838.000000          1861.583333         75526.083333  \n",
       "\n",
       "[8 rows x 23 columns]"
      ]
     },
     "execution_count": 44,
     "metadata": {},
     "output_type": "execute_result"
    }
   ],
   "source": [
    "Twitter_train.describe()"
   ]
  },
  {
   "cell_type": "code",
   "execution_count": 45,
   "id": "d3880cdc",
   "metadata": {},
   "outputs": [
    {
     "data": {
      "text/plain": [
       "Choice                 0\n",
       "A_follower_count       0\n",
       "A_following_count      0\n",
       "A_listed_count         0\n",
       "A_mentions_received    0\n",
       "A_retweets_received    0\n",
       "A_mentions_sent        0\n",
       "A_retweets_sent        0\n",
       "A_posts                0\n",
       "A_network_feature_1    0\n",
       "A_network_feature_2    0\n",
       "A_network_feature_3    0\n",
       "B_follower_count       0\n",
       "B_following_count      0\n",
       "B_listed_count         0\n",
       "B_mentions_received    0\n",
       "B_retweets_received    0\n",
       "B_mentions_sent        0\n",
       "B_retweets_sent        0\n",
       "B_posts                0\n",
       "B_network_feature_1    0\n",
       "B_network_feature_2    0\n",
       "B_network_feature_3    0\n",
       "dtype: int64"
      ]
     },
     "execution_count": 45,
     "metadata": {},
     "output_type": "execute_result"
    }
   ],
   "source": [
    "Twitter_train.isnull().sum()"
   ]
  },
  {
   "cell_type": "markdown",
   "id": "2e8fedd2",
   "metadata": {},
   "source": [
    "## Correlations :"
   ]
  },
  {
   "cell_type": "code",
   "execution_count": 46,
   "id": "f0b6f0ca",
   "metadata": {},
   "outputs": [
    {
     "data": {
      "text/plain": [
       "[Text(0.5, 0, 'A_follower_count'),\n",
       " Text(1.5, 0, 'A_following_count'),\n",
       " Text(2.5, 0, 'A_listed_count'),\n",
       " Text(3.5, 0, 'A_mentions_received'),\n",
       " Text(4.5, 0, 'A_retweets_received'),\n",
       " Text(5.5, 0, 'A_mentions_sent'),\n",
       " Text(6.5, 0, 'A_retweets_sent'),\n",
       " Text(7.5, 0, 'A_posts'),\n",
       " Text(8.5, 0, 'A_network_feature_1'),\n",
       " Text(9.5, 0, 'A_network_feature_2'),\n",
       " Text(10.5, 0, 'A_network_feature_3')]"
      ]
     },
     "execution_count": 46,
     "metadata": {},
     "output_type": "execute_result"
    },
    {
     "data": {
      "image/png": "[encoded data removed]",
      "text/plain": [
       "<Figure size 640x480 with 2 Axes>"
      ]
     },
     "metadata": {},
     "output_type": "display_data"
    }
   ],
   "source": [
    "#Correlations between the columns for the influencer A\n",
    "corr_A = Twitter_train .iloc[:,1:12].corr(method = 'pearson')\n",
    "corr_A\n",
    "\n",
    "ax = sns.heatmap( \n",
    "    corr_A,\n",
    "    vmin=-1, vmax=1, center=0, \n",
    "    cmap=sns.diverging_palette(220, 20, n=100,center='light'),\n",
    "    square=True,\n",
    ")\n",
    "ax.set_xticklabels(  \n",
    "    ax.get_xticklabels(), \n",
    "    rotation=45, \n",
    "    horizontalalignment='right'\n",
    ")"
   ]
  },
  {
   "cell_type": "code",
   "execution_count": 47,
   "id": "21219699",
   "metadata": {},
   "outputs": [
    {
     "data": {
      "text/plain": [
       "[Text(0.5, 0, 'B_follower_count'),\n",
       " Text(1.5, 0, 'B_following_count'),\n",
       " Text(2.5, 0, 'B_listed_count'),\n",
       " Text(3.5, 0, 'B_mentions_received'),\n",
       " Text(4.5, 0, 'B_retweets_received'),\n",
       " Text(5.5, 0, 'B_mentions_sent'),\n",
       " Text(6.5, 0, 'B_retweets_sent'),\n",
       " Text(7.5, 0, 'B_posts'),\n",
       " Text(8.5, 0, 'B_network_feature_1'),\n",
       " Text(9.5, 0, 'B_network_feature_2'),\n",
       " Text(10.5, 0, 'B_network_feature_3')]"
      ]
     },
     "execution_count": 47,
     "metadata": {},
     "output_type": "execute_result"
    },
    {
     "data": {
      "image/png": "[encoded data removed]",
      "text/plain": [
       "<Figure size 640x480 with 2 Axes>"
      ]
     },
     "metadata": {},
     "output_type": "display_data"
    }
   ],
   "source": [
    "#Correlations between the columns for the influencer B\n",
    "corr_B = Twitter_train .iloc[:,12:23].corr(method = 'pearson')\n",
    "corr_B\n",
    "\n",
    "ax = sns.heatmap( \n",
    "    corr_B,\n",
    "    vmin=-1, vmax=1, center=0, \n",
    "    cmap=sns.diverging_palette(220, 20, n=100,center='light'),\n",
    "    square=True,\n",
    ")\n",
    "ax.set_xticklabels(  \n",
    "    ax.get_xticklabels(), \n",
    "    rotation=45, \n",
    "    horizontalalignment='right'\n",
    ")"
   ]
  },
  {
   "cell_type": "code",
   "execution_count": 48,
   "id": "e5798fca",
   "metadata": {},
   "outputs": [],
   "source": [
    "X = Twitter_train.iloc[:,1:23]"
   ]
  },
  {
   "cell_type": "code",
   "execution_count": 49,
   "id": "75e477cc",
   "metadata": {},
   "outputs": [
    {
     "data": {
      "text/plain": [
       "(5500, 22)"
      ]
     },
     "execution_count": 49,
     "metadata": {},
     "output_type": "execute_result"
    }
   ],
   "source": [
    "X.shape"
   ]
  },
  {
   "cell_type": "code",
   "execution_count": 50,
   "id": "7a524233",
   "metadata": {},
   "outputs": [],
   "source": [
    "y= Twitter_train.iloc[:,0]"
   ]
  },
  {
   "cell_type": "code",
   "execution_count": 51,
   "id": "0cc623e5",
   "metadata": {},
   "outputs": [
    {
     "data": {
      "text/plain": [
       "(5500,)"
      ]
     },
     "execution_count": 51,
     "metadata": {},
     "output_type": "execute_result"
    }
   ],
   "source": [
    "y.shape"
   ]
  },
  {
   "cell_type": "code",
   "execution_count": 52,
   "id": "d37a74f2",
   "metadata": {},
   "outputs": [],
   "source": [
    "from sklearn.model_selection import train_test_split\n",
    "X_train,X_test,y_train,y_test = train_test_split(X,y,test_size=0.3,random_state=20)"
   ]
  },
  {
   "cell_type": "code",
   "execution_count": 53,
   "id": "0020b7b5",
   "metadata": {},
   "outputs": [
    {
     "name": "stdout",
     "output_type": "stream",
     "text": [
      "(3850, 22)\n",
      "(3850,)\n",
      "(1650, 22)\n",
      "(1650,)\n"
     ]
    }
   ],
   "source": [
    "print(X_train.shape)\n",
    "print(y_train.shape)\n",
    "print(X_test.shape)\n",
    "print(y_test.shape)"
   ]
  },
  {
   "cell_type": "markdown",
   "id": "a224ac9e",
   "metadata": {},
   "source": [
    "## Applying Machine Learning Models to identify key predictors of Social Influence"
   ]
  },
  {
   "cell_type": "code",
   "execution_count": 54,
   "id": "8f33986d",
   "metadata": {},
   "outputs": [
    {
     "name": "stdout",
     "output_type": "stream",
     "text": [
      "LR: 0.739740 (0.022064)\n"
     ]
    },
    {
     "name": "stderr",
     "output_type": "stream",
     "text": [
      "C:\\Users\\Jit Nandi\\anaconda3\\lib\\site-packages\\sklearn\\neighbors\\_classification.py:228: FutureWarning: Unlike other reduction functions (e.g. `skew`, `kurtosis`), the default behavior of `mode` typically preserves the axis it acts along. In SciPy 1.11.0, this behavior will change: the default value of `keepdims` will become False, the `axis` over which the statistic is taken will be eliminated, and the value None will no longer be accepted. Set `keepdims` to True or False to avoid this warning.\n",
      "  mode, _ = stats.mode(_y[neigh_ind, k], axis=1)\n",
      "C:\\Users\\Jit Nandi\\anaconda3\\lib\\site-packages\\sklearn\\neighbors\\_classification.py:228: FutureWarning: Unlike other reduction functions (e.g. `skew`, `kurtosis`), the default behavior of `mode` typically preserves the axis it acts along. In SciPy 1.11.0, this behavior will change: the default value of `keepdims` will become False, the `axis` over which the statistic is taken will be eliminated, and the value None will no longer be accepted. Set `keepdims` to True or False to avoid this warning.\n",
      "  mode, _ = stats.mode(_y[neigh_ind, k], axis=1)\n",
      "C:\\Users\\Jit Nandi\\anaconda3\\lib\\site-packages\\sklearn\\neighbors\\_classification.py:228: FutureWarning: Unlike other reduction functions (e.g. `skew`, `kurtosis`), the default behavior of `mode` typically preserves the axis it acts along. In SciPy 1.11.0, this behavior will change: the default value of `keepdims` will become False, the `axis` over which the statistic is taken will be eliminated, and the value None will no longer be accepted. Set `keepdims` to True or False to avoid this warning.\n",
      "  mode, _ = stats.mode(_y[neigh_ind, k], axis=1)\n",
      "C:\\Users\\Jit Nandi\\anaconda3\\lib\\site-packages\\sklearn\\neighbors\\_classification.py:228: FutureWarning: Unlike other reduction functions (e.g. `skew`, `kurtosis`), the default behavior of `mode` typically preserves the axis it acts along. In SciPy 1.11.0, this behavior will change: the default value of `keepdims` will become False, the `axis` over which the statistic is taken will be eliminated, and the value None will no longer be accepted. Set `keepdims` to True or False to avoid this warning.\n",
      "  mode, _ = stats.mode(_y[neigh_ind, k], axis=1)\n",
      "C:\\Users\\Jit Nandi\\anaconda3\\lib\\site-packages\\sklearn\\neighbors\\_classification.py:228: FutureWarning: Unlike other reduction functions (e.g. `skew`, `kurtosis`), the default behavior of `mode` typically preserves the axis it acts along. In SciPy 1.11.0, this behavior will change: the default value of `keepdims` will become False, the `axis` over which the statistic is taken will be eliminated, and the value None will no longer be accepted. Set `keepdims` to True or False to avoid this warning.\n",
      "  mode, _ = stats.mode(_y[neigh_ind, k], axis=1)\n",
      "C:\\Users\\Jit Nandi\\anaconda3\\lib\\site-packages\\sklearn\\neighbors\\_classification.py:228: FutureWarning: Unlike other reduction functions (e.g. `skew`, `kurtosis`), the default behavior of `mode` typically preserves the axis it acts along. In SciPy 1.11.0, this behavior will change: the default value of `keepdims` will become False, the `axis` over which the statistic is taken will be eliminated, and the value None will no longer be accepted. Set `keepdims` to True or False to avoid this warning.\n",
      "  mode, _ = stats.mode(_y[neigh_ind, k], axis=1)\n",
      "C:\\Users\\Jit Nandi\\anaconda3\\lib\\site-packages\\sklearn\\neighbors\\_classification.py:228: FutureWarning: Unlike other reduction functions (e.g. `skew`, `kurtosis`), the default behavior of `mode` typically preserves the axis it acts along. In SciPy 1.11.0, this behavior will change: the default value of `keepdims` will become False, the `axis` over which the statistic is taken will be eliminated, and the value None will no longer be accepted. Set `keepdims` to True or False to avoid this warning.\n",
      "  mode, _ = stats.mode(_y[neigh_ind, k], axis=1)\n",
      "C:\\Users\\Jit Nandi\\anaconda3\\lib\\site-packages\\sklearn\\neighbors\\_classification.py:228: FutureWarning: Unlike other reduction functions (e.g. `skew`, `kurtosis`), the default behavior of `mode` typically preserves the axis it acts along. In SciPy 1.11.0, this behavior will change: the default value of `keepdims` will become False, the `axis` over which the statistic is taken will be eliminated, and the value None will no longer be accepted. Set `keepdims` to True or False to avoid this warning.\n",
      "  mode, _ = stats.mode(_y[neigh_ind, k], axis=1)\n",
      "C:\\Users\\Jit Nandi\\anaconda3\\lib\\site-packages\\sklearn\\neighbors\\_classification.py:228: FutureWarning: Unlike other reduction functions (e.g. `skew`, `kurtosis`), the default behavior of `mode` typically preserves the axis it acts along. In SciPy 1.11.0, this behavior will change: the default value of `keepdims` will become False, the `axis` over which the statistic is taken will be eliminated, and the value None will no longer be accepted. Set `keepdims` to True or False to avoid this warning.\n",
      "  mode, _ = stats.mode(_y[neigh_ind, k], axis=1)\n",
      "C:\\Users\\Jit Nandi\\anaconda3\\lib\\site-packages\\sklearn\\neighbors\\_classification.py:228: FutureWarning: Unlike other reduction functions (e.g. `skew`, `kurtosis`), the default behavior of `mode` typically preserves the axis it acts along. In SciPy 1.11.0, this behavior will change: the default value of `keepdims` will become False, the `axis` over which the statistic is taken will be eliminated, and the value None will no longer be accepted. Set `keepdims` to True or False to avoid this warning.\n",
      "  mode, _ = stats.mode(_y[neigh_ind, k], axis=1)\n"
     ]
    },
    {
     "name": "stdout",
     "output_type": "stream",
     "text": [
      "KNN: 0.736364 (0.023355)\n",
      "CART: 0.711688 (0.029660)\n",
      "RF: 0.773247 (0.023493)\n",
      "NB: 0.561818 (0.013499)\n",
      "SVM: 0.524156 (0.010760)\n",
      "Xgboost: 0.761558 (0.024989)\n"
     ]
    }
   ],
   "source": [
    "from sklearn.linear_model import LogisticRegression\n",
    "from sklearn.neighbors import KNeighborsClassifier\n",
    "from sklearn.tree import DecisionTreeClassifier\n",
    "from sklearn.ensemble import RandomForestClassifier\n",
    "from sklearn.naive_bayes import GaussianNB\n",
    "from sklearn.svm import SVC\n",
    "from xgboost import XGBClassifier\n",
    "from sklearn.model_selection import cross_val_score\n",
    "from sklearn.model_selection import StratifiedKFold\n",
    "\n",
    "\n",
    "models = []\n",
    "models.append(('LR', LogisticRegression(solver='liblinear', multi_class='ovr')))\n",
    "models.append(('KNN', KNeighborsClassifier()))\n",
    "models.append(('CART', DecisionTreeClassifier()))\n",
    "models.append((\"RF\", RandomForestClassifier()))\n",
    "models.append(('NB', GaussianNB()))\n",
    "models.append(('SVM', SVC(gamma='auto')))\n",
    "models.append(('Xgboost', XGBClassifier()))\n",
    "\n",
    "results = []\n",
    "names = []\n",
    "for name, model in models:\n",
    "    kfold = StratifiedKFold(n_splits=10, random_state=1, shuffle=True)\n",
    "    cv_results = cross_val_score(model, X_train, y_train, cv = kfold, scoring='accuracy')\n",
    "    results.append(cv_results)\n",
    "    names.append(name)\n",
    "    print('%s: %f (%f)' % (name, cv_results.mean(), cv_results.std()))"
   ]
  },
  {
   "cell_type": "code",
   "execution_count": 55,
   "id": "6a81ab07",
   "metadata": {},
   "outputs": [
    {
     "data": {
      "text/plain": [
       "LogisticRegression(max_iter=2000)"
      ]
     },
     "execution_count": 55,
     "metadata": {},
     "output_type": "execute_result"
    }
   ],
   "source": [
    "# logistic regression\n",
    "from sklearn.linear_model import LogisticRegression\n",
    "from sklearn.metrics import confusion_matrix, classification_report\n",
    "\n",
    "logreg = LogisticRegression(max_iter = 2000)\n",
    "logreg.fit(X_train, y_train.values.ravel())\n"
   ]
  },
  {
   "cell_type": "code",
   "execution_count": 56,
   "id": "6a30ac21",
   "metadata": {},
   "outputs": [
    {
     "name": "stdout",
     "output_type": "stream",
     "text": [
      "Training accuracy of Logistic Regression model: 0.7420779220779221\n",
      "Testing accuracy of Logistic Regression model: 0.7484848484848485\n"
     ]
    }
   ],
   "source": [
    "# Calculating the accuracy of our model \n",
    "\n",
    "print(\"Training accuracy of Logistic Regression model:\", model_logreg.score(X_train, y_train))\n",
    "print(\"Testing accuracy of Logistic Regression model:\", model_logreg.score(X_test, y_test))"
   ]
  },
  {
   "cell_type": "code",
   "execution_count": 57,
   "id": "e7c3c2ff",
   "metadata": {},
   "outputs": [
    {
     "name": "stdout",
     "output_type": "stream",
     "text": [
      "Optimization terminated successfully.\n",
      "         Current function value: 0.570440\n",
      "         Iterations 7\n",
      "                           Results: Logit\n",
      "====================================================================\n",
      "Model:                Logit            Pseudo R-squared: 0.177      \n",
      "Dependent Variable:   Choice           AIC:              6318.8409  \n",
      "Date:                 2024-01-10 22:51 BIC:              6464.3159  \n",
      "No. Observations:     5500             Log-Likelihood:   -3137.4    \n",
      "Df Model:             21               LL-Null:          -3811.3    \n",
      "Df Residuals:         5478             LLR p-value:      1.4124e-272\n",
      "Converged:            1.0000           Scale:            1.0000     \n",
      "No. Iterations:       7.0000                                        \n",
      "--------------------------------------------------------------------\n",
      "                     Coef.  Std.Err.    z     P>|z|   [0.025  0.975]\n",
      "--------------------------------------------------------------------\n",
      "A_follower_count    -0.0000   0.0000  -3.6798 0.0002 -0.0000 -0.0000\n",
      "A_following_count    0.0000   0.0000   2.2724 0.0231  0.0000  0.0000\n",
      "A_listed_count       0.0001   0.0000  15.0471 0.0000  0.0001  0.0001\n",
      "A_mentions_received -0.0000   0.0000  -1.3960 0.1627 -0.0000  0.0000\n",
      "A_retweets_received -0.0002   0.0000  -6.8334 0.0000 -0.0002 -0.0001\n",
      "A_mentions_sent      0.0099   0.0050   1.9718 0.0486  0.0001  0.0198\n",
      "A_retweets_sent      0.0838   0.0246   3.4052 0.0007  0.0355  0.1320\n",
      "A_posts              0.0037   0.0025   1.4810 0.1386 -0.0012  0.0086\n",
      "A_network_feature_1  0.0000   0.0000  10.9854 0.0000  0.0000  0.0001\n",
      "A_network_feature_2  0.0012   0.0003   3.6244 0.0003  0.0006  0.0019\n",
      "A_network_feature_3  0.0000   0.0000   4.5081 0.0000  0.0000  0.0000\n",
      "B_follower_count     0.0000   0.0000   3.5851 0.0003  0.0000  0.0000\n",
      "B_following_count   -0.0000   0.0000  -0.5121 0.6086 -0.0000  0.0000\n",
      "B_listed_count      -0.0001   0.0000 -15.9208 0.0000 -0.0001 -0.0001\n",
      "B_mentions_received  0.0000   0.0000   0.1691 0.8657 -0.0000  0.0000\n",
      "B_retweets_received  0.0001   0.0000   1.9356 0.0529 -0.0000  0.0002\n",
      "B_mentions_sent     -0.0119   0.0046  -2.6020 0.0093 -0.0209 -0.0029\n",
      "B_retweets_sent     -0.1195   0.0246  -4.8497 0.0000 -0.1678 -0.0712\n",
      "B_posts             -0.0004   0.0021  -0.1674 0.8670 -0.0044  0.0037\n",
      "B_network_feature_1 -0.0000   0.0000  -3.0893 0.0020 -0.0000 -0.0000\n",
      "B_network_feature_2 -0.0007   0.0003  -2.0083 0.0446 -0.0013 -0.0000\n",
      "B_network_feature_3 -0.0000   0.0000  -4.2457 0.0000 -0.0000 -0.0000\n",
      "====================================================================\n",
      "\n"
     ]
    }
   ],
   "source": [
    "import statsmodels.api as sm\n",
    "\n",
    "logit_model = sm.Logit(y,X)\n",
    "result = logit_model.fit()\n",
    "print(result.summary2())"
   ]
  },
  {
   "cell_type": "code",
   "execution_count": 58,
   "id": "40073368",
   "metadata": {},
   "outputs": [],
   "source": [
    "y_pred = model_logreg.predict(X_test)"
   ]
  },
  {
   "cell_type": "code",
   "execution_count": 59,
   "id": "d63e7679",
   "metadata": {},
   "outputs": [
    {
     "name": "stdout",
     "output_type": "stream",
     "text": [
      "[[594 229]\n",
      " [186 641]]\n"
     ]
    }
   ],
   "source": [
    "# Confusion Matrix \n",
    "\n",
    "from sklearn.metrics import confusion_matrix, classification_report\n",
    "\n",
    "confusion_matrix = confusion_matrix (y_test,y_pred)\n",
    "print(confusion_matrix)"
   ]
  },
  {
   "cell_type": "markdown",
   "id": "1b955850",
   "metadata": {},
   "source": [
    "The confusion matrix visualises the actual and predicted values of the data thereby depicting the performance of a supervised algorithm. Here, it can be inferred that there are 1,235 correct predictions and 415 incorrect predictions."
   ]
  },
  {
   "cell_type": "code",
   "execution_count": 60,
   "id": "5c1ea19c",
   "metadata": {},
   "outputs": [
    {
     "name": "stdout",
     "output_type": "stream",
     "text": [
      "              precision    recall  f1-score   support\n",
      "\n",
      "           0       0.76      0.72      0.74       823\n",
      "           1       0.74      0.78      0.76       827\n",
      "\n",
      "    accuracy                           0.75      1650\n",
      "   macro avg       0.75      0.75      0.75      1650\n",
      "weighted avg       0.75      0.75      0.75      1650\n",
      "\n"
     ]
    }
   ],
   "source": [
    "# Classification report will summarise our model by computing precision, recall, f-measure and support \n",
    "print(classification_report(y_test, y_pred))"
   ]
  },
  {
   "cell_type": "markdown",
   "id": "9e10c4b4",
   "metadata": {},
   "source": [
    "In classification report, high precision means that an algorithm returned more relevant results than irrelevant, while high recall means that an algorithm returned most of the relevant results. In the Logistic regression model, there is a 75% precision that there are more relevant values and a 75% recall that most of the relevant values are included in our model."
   ]
  },
  {
   "cell_type": "code",
   "execution_count": 61,
   "id": "65e4d509",
   "metadata": {},
   "outputs": [
    {
     "name": "stderr",
     "output_type": "stream",
     "text": [
      "C:\\Users\\Jit Nandi\\anaconda3\\lib\\site-packages\\sklearn\\neighbors\\_classification.py:228: FutureWarning: Unlike other reduction functions (e.g. `skew`, `kurtosis`), the default behavior of `mode` typically preserves the axis it acts along. In SciPy 1.11.0, this behavior will change: the default value of `keepdims` will become False, the `axis` over which the statistic is taken will be eliminated, and the value None will no longer be accepted. Set `keepdims` to True or False to avoid this warning.\n",
      "  mode, _ = stats.mode(_y[neigh_ind, k], axis=1)\n"
     ]
    }
   ],
   "source": [
    "# K-Nearest Neighbors\n",
    "\n",
    "from sklearn.neighbors import KNeighborsClassifier\n",
    "\n",
    "model_knn = KNeighborsClassifier(n_neighbors = 5, metric = 'euclidean')\n",
    "model_knn.fit(X_train, y_train)\n",
    "\n",
    "y_pred = model_knn.predict(X_test)"
   ]
  },
  {
   "cell_type": "code",
   "execution_count": 62,
   "id": "970a61c7",
   "metadata": {},
   "outputs": [
    {
     "name": "stderr",
     "output_type": "stream",
     "text": [
      "C:\\Users\\Jit Nandi\\anaconda3\\lib\\site-packages\\sklearn\\neighbors\\_classification.py:228: FutureWarning: Unlike other reduction functions (e.g. `skew`, `kurtosis`), the default behavior of `mode` typically preserves the axis it acts along. In SciPy 1.11.0, this behavior will change: the default value of `keepdims` will become False, the `axis` over which the statistic is taken will be eliminated, and the value None will no longer be accepted. Set `keepdims` to True or False to avoid this warning.\n",
      "  mode, _ = stats.mode(_y[neigh_ind, k], axis=1)\n",
      "C:\\Users\\Jit Nandi\\anaconda3\\lib\\site-packages\\sklearn\\neighbors\\_classification.py:228: FutureWarning: Unlike other reduction functions (e.g. `skew`, `kurtosis`), the default behavior of `mode` typically preserves the axis it acts along. In SciPy 1.11.0, this behavior will change: the default value of `keepdims` will become False, the `axis` over which the statistic is taken will be eliminated, and the value None will no longer be accepted. Set `keepdims` to True or False to avoid this warning.\n",
      "  mode, _ = stats.mode(_y[neigh_ind, k], axis=1)\n"
     ]
    },
    {
     "name": "stdout",
     "output_type": "stream",
     "text": [
      "Training accuracy of K-Nearest Neighbors model: 0.8067532467532468\n",
      "Testing accuracy of K-Nearest Neighbors model: 0.7296969696969697\n"
     ]
    }
   ],
   "source": [
    "# Calculating training and testing of our model\n",
    "\n",
    "print(\"Training accuracy of K-Nearest Neighbors model:\", model_knn.score(X_train, y_train))\n",
    "print(\"Testing accuracy of K-Nearest Neighbors model:\", model_knn.score(X_test, y_test))"
   ]
  },
  {
   "cell_type": "code",
   "execution_count": 63,
   "id": "1ee59dc9",
   "metadata": {},
   "outputs": [
    {
     "name": "stdout",
     "output_type": "stream",
     "text": [
      "[[582 241]\n",
      " [205 622]]\n"
     ]
    }
   ],
   "source": [
    "# Confusion Matrix \n",
    "\n",
    "from sklearn.metrics import confusion_matrix, classification_report\n",
    "\n",
    "confusion_matrix = confusion_matrix(y_test, y_pred)\n",
    "print(confusion_matrix)"
   ]
  },
  {
   "cell_type": "markdown",
   "id": "4750780a",
   "metadata": {},
   "source": [
    "The confusion matrix visualises the actual and predicted values of the data thereby depicting the performance of a supervised algorithm. Here, it can be inferred that there are 1,204 correct predictions and 446 incorrect predictions."
   ]
  },
  {
   "cell_type": "code",
   "execution_count": 64,
   "id": "d2ae2eff",
   "metadata": {},
   "outputs": [
    {
     "name": "stdout",
     "output_type": "stream",
     "text": [
      "              precision    recall  f1-score   support\n",
      "\n",
      "           0       0.74      0.71      0.72       823\n",
      "           1       0.72      0.75      0.74       827\n",
      "\n",
      "    accuracy                           0.73      1650\n",
      "   macro avg       0.73      0.73      0.73      1650\n",
      "weighted avg       0.73      0.73      0.73      1650\n",
      "\n"
     ]
    }
   ],
   "source": [
    "# Classification report will summarise our model by computing precision, recall, f-measure and support \n",
    "\n",
    "print(classification_report(y_test, y_pred))"
   ]
  },
  {
   "cell_type": "markdown",
   "id": "dce59af5",
   "metadata": {},
   "source": [
    "In classification report, high precision means that an algorithm returned more relevant results than irrelevant, while high recall means that an algorithm returned most of the relevant results. In the KNN model, there is a 73% precision that there are more relevant values and a 73% recall that most of the relevant values are included in our model."
   ]
  },
  {
   "cell_type": "code",
   "execution_count": 65,
   "id": "d6563274",
   "metadata": {},
   "outputs": [],
   "source": [
    "# Random Forest Classifier \n",
    "\n",
    "from sklearn.ensemble import RandomForestClassifier\n",
    "\n",
    "model_rf = RandomForestClassifier()\n",
    "model_rf.fit(X_train, y_train) #Train the model on training data \n",
    "\n",
    "# Predicting the test results \n",
    "  \n",
    "y_pred = model_rf.predict(X_test)"
   ]
  },
  {
   "cell_type": "code",
   "execution_count": 66,
   "id": "42f6ad20",
   "metadata": {},
   "outputs": [
    {
     "name": "stdout",
     "output_type": "stream",
     "text": [
      "Training accuracy of Random Forest model: 0.9942857142857143\n",
      "Testing accuracy of Random Forest model: 0.7715151515151515\n"
     ]
    }
   ],
   "source": [
    "# Calculating the accuracy of our model  \n",
    "\n",
    "print(\"Training accuracy of Random Forest model:\", model_rf.score(X_train, y_train))\n",
    "print(\"Testing accuracy of Random Forest model:\", model_rf.score(X_test, y_test))"
   ]
  },
  {
   "cell_type": "code",
   "execution_count": 67,
   "id": "de087f47",
   "metadata": {},
   "outputs": [
    {
     "data": {
      "text/html": [
       "<div>\n",
       "<style scoped>\n",
       "    .dataframe tbody tr th:only-of-type {\n",
       "        vertical-align: middle;\n",
       "    }\n",
       "\n",
       "    .dataframe tbody tr th {\n",
       "        vertical-align: top;\n",
       "    }\n",
       "\n",
       "    .dataframe thead th {\n",
       "        text-align: right;\n",
       "    }\n",
       "</style>\n",
       "<table border=\"1\" class=\"dataframe\">\n",
       "  <thead>\n",
       "    <tr style=\"text-align: right;\">\n",
       "      <th></th>\n",
       "      <th>importance</th>\n",
       "    </tr>\n",
       "  </thead>\n",
       "  <tbody>\n",
       "    <tr>\n",
       "      <th>A_follower_count</th>\n",
       "      <td>0.083903</td>\n",
       "    </tr>\n",
       "    <tr>\n",
       "      <th>A_listed_count</th>\n",
       "      <td>0.072593</td>\n",
       "    </tr>\n",
       "    <tr>\n",
       "      <th>B_network_feature_1</th>\n",
       "      <td>0.072531</td>\n",
       "    </tr>\n",
       "    <tr>\n",
       "      <th>B_listed_count</th>\n",
       "      <td>0.071263</td>\n",
       "    </tr>\n",
       "    <tr>\n",
       "      <th>B_mentions_received</th>\n",
       "      <td>0.064141</td>\n",
       "    </tr>\n",
       "    <tr>\n",
       "      <th>A_mentions_received</th>\n",
       "      <td>0.060130</td>\n",
       "    </tr>\n",
       "    <tr>\n",
       "      <th>B_follower_count</th>\n",
       "      <td>0.059677</td>\n",
       "    </tr>\n",
       "    <tr>\n",
       "      <th>A_network_feature_1</th>\n",
       "      <td>0.055416</td>\n",
       "    </tr>\n",
       "    <tr>\n",
       "      <th>B_retweets_received</th>\n",
       "      <td>0.055145</td>\n",
       "    </tr>\n",
       "    <tr>\n",
       "      <th>A_retweets_received</th>\n",
       "      <td>0.047125</td>\n",
       "    </tr>\n",
       "    <tr>\n",
       "      <th>B_mentions_sent</th>\n",
       "      <td>0.033897</td>\n",
       "    </tr>\n",
       "    <tr>\n",
       "      <th>A_following_count</th>\n",
       "      <td>0.033814</td>\n",
       "    </tr>\n",
       "    <tr>\n",
       "      <th>A_posts</th>\n",
       "      <td>0.032549</td>\n",
       "    </tr>\n",
       "    <tr>\n",
       "      <th>B_network_feature_3</th>\n",
       "      <td>0.031944</td>\n",
       "    </tr>\n",
       "    <tr>\n",
       "      <th>B_posts</th>\n",
       "      <td>0.031795</td>\n",
       "    </tr>\n",
       "    <tr>\n",
       "      <th>A_network_feature_3</th>\n",
       "      <td>0.031425</td>\n",
       "    </tr>\n",
       "    <tr>\n",
       "      <th>B_network_feature_2</th>\n",
       "      <td>0.031425</td>\n",
       "    </tr>\n",
       "    <tr>\n",
       "      <th>A_network_feature_2</th>\n",
       "      <td>0.030791</td>\n",
       "    </tr>\n",
       "    <tr>\n",
       "      <th>B_following_count</th>\n",
       "      <td>0.030448</td>\n",
       "    </tr>\n",
       "    <tr>\n",
       "      <th>A_mentions_sent</th>\n",
       "      <td>0.028921</td>\n",
       "    </tr>\n",
       "    <tr>\n",
       "      <th>B_retweets_sent</th>\n",
       "      <td>0.020808</td>\n",
       "    </tr>\n",
       "    <tr>\n",
       "      <th>A_retweets_sent</th>\n",
       "      <td>0.020259</td>\n",
       "    </tr>\n",
       "  </tbody>\n",
       "</table>\n",
       "</div>"
      ],
      "text/plain": [
       "                     importance\n",
       "A_follower_count       0.083903\n",
       "A_listed_count         0.072593\n",
       "B_network_feature_1    0.072531\n",
       "B_listed_count         0.071263\n",
       "B_mentions_received    0.064141\n",
       "A_mentions_received    0.060130\n",
       "B_follower_count       0.059677\n",
       "A_network_feature_1    0.055416\n",
       "B_retweets_received    0.055145\n",
       "A_retweets_received    0.047125\n",
       "B_mentions_sent        0.033897\n",
       "A_following_count      0.033814\n",
       "A_posts                0.032549\n",
       "B_network_feature_3    0.031944\n",
       "B_posts                0.031795\n",
       "A_network_feature_3    0.031425\n",
       "B_network_feature_2    0.031425\n",
       "A_network_feature_2    0.030791\n",
       "B_following_count      0.030448\n",
       "A_mentions_sent        0.028921\n",
       "B_retweets_sent        0.020808\n",
       "A_retweets_sent        0.020259"
      ]
     },
     "execution_count": 67,
     "metadata": {},
     "output_type": "execute_result"
    }
   ],
   "source": [
    "feature_importances = pd.DataFrame(model_rf.feature_importances_,\n",
    "                          index = X_train.columns, \n",
    "                          columns = ['importance']).sort_values('importance', ascending = False)\n",
    "feature_importances"
   ]
  },
  {
   "cell_type": "code",
   "execution_count": 68,
   "id": "81cc18e5",
   "metadata": {},
   "outputs": [
    {
     "name": "stdout",
     "output_type": "stream",
     "text": [
      "[[623 200]\n",
      " [177 650]]\n"
     ]
    }
   ],
   "source": [
    "# Confusion Matrix \n",
    "\n",
    "from sklearn.metrics import confusion_matrix, classification_report\n",
    "conf_matrix = confusion_matrix(y_test,y_pred)\n",
    "print(conf_matrix)"
   ]
  },
  {
   "cell_type": "markdown",
   "id": "fc8531d4",
   "metadata": {},
   "source": [
    "The confusion matrix visualises the actual and predicted values of the data thereby depicting the performance of a supervised algorithm. Here, it can be inferred that there are 1,273 correct predictions and 377 incorrect predictions."
   ]
  },
  {
   "cell_type": "code",
   "execution_count": 69,
   "id": "a9e244b3",
   "metadata": {},
   "outputs": [
    {
     "name": "stdout",
     "output_type": "stream",
     "text": [
      "              precision    recall  f1-score   support\n",
      "\n",
      "           0       0.78      0.76      0.77       823\n",
      "           1       0.76      0.79      0.78       827\n",
      "\n",
      "    accuracy                           0.77      1650\n",
      "   macro avg       0.77      0.77      0.77      1650\n",
      "weighted avg       0.77      0.77      0.77      1650\n",
      "\n"
     ]
    }
   ],
   "source": [
    "# Classification report will summarise our model by computing precision, recall, f-measure and support \n",
    "print(classification_report(y_test, y_pred))"
   ]
  },
  {
   "cell_type": "markdown",
   "id": "45666002",
   "metadata": {},
   "source": [
    "In classification report, high precision means that an algorithm returned more relevant results than irrelevant, while high recall means that an algorithm returned most of the relevant results. In the Random forest model, there is a 77% precision that there are more relevant values and a 77% recall that most of the relevant values are included in our model."
   ]
  },
  {
   "cell_type": "code",
   "execution_count": 70,
   "id": "72adc5eb",
   "metadata": {},
   "outputs": [
    {
     "name": "stdout",
     "output_type": "stream",
     "text": [
      "XGBClassifier(base_score=None, booster=None, callbacks=None,\n",
      "              colsample_bylevel=None, colsample_bynode=None,\n",
      "              colsample_bytree=None, device=None, early_stopping_rounds=None,\n",
      "              enable_categorical=False, eta=0.3, eval_metric=None,\n",
      "              feature_types=None, gamma=None, grow_policy=None,\n",
      "              importance_type=None, interaction_constraints=None,\n",
      "              learning_rate=None, max_bin=None, max_cat_threshold=None,\n",
      "              max_cat_to_onehot=None, max_delta_step=None, max_depth=2,\n",
      "              max_leaves=None, min_child_weight=None, missing=nan,\n",
      "              monotone_constraints=None, multi_strategy=None, n_estimators=None,\n",
      "              n_jobs=None, num_parallel_tree=None, ...)\n"
     ]
    }
   ],
   "source": [
    "# XGBoost Classifier \n",
    "\n",
    "from xgboost import XGBClassifier\n",
    "from xgboost import plot_importance\n",
    "\n",
    "model_xgb = XGBClassifier(max_depth = 2, \n",
    "                          objective = 'binary:logistic',\n",
    "                          eta = 0.3\n",
    "                         )\n",
    "model_xgb\n",
    "\n",
    "model_xgb.fit(X_train, y_train)\n",
    "print(model_xgb)\n",
    "\n",
    "y_pred = model_xgb.predict(X_test)"
   ]
  },
  {
   "cell_type": "code",
   "execution_count": 71,
   "id": "4df1b9ff",
   "metadata": {},
   "outputs": [
    {
     "name": "stdout",
     "output_type": "stream",
     "text": [
      "Training accuracy of XGBoost model: 0.8285714285714286\n",
      "Testing accuracy of XGBoost model: 0.7696969696969697\n"
     ]
    },
    {
     "data": {
      "image/png": "[encoded data removed]",
      "text/plain": [
       "<Figure size 640x480 with 1 Axes>"
      ]
     },
     "metadata": {},
     "output_type": "display_data"
    }
   ],
   "source": [
    "# Calculating training and testing of our model\n",
    "\n",
    "print(\"Training accuracy of XGBoost model:\", model_xgb.score(X_train, y_train))\n",
    "print(\"Testing accuracy of XGBoost model:\", model_xgb.score(X_test, y_test))\n",
    "\n",
    "\n",
    "plot_importance(model_xgb)\n",
    "pyplot.show()"
   ]
  },
  {
   "cell_type": "code",
   "execution_count": 72,
   "id": "f9239254",
   "metadata": {},
   "outputs": [
    {
     "name": "stdout",
     "output_type": "stream",
     "text": [
      "[[617 206]\n",
      " [174 653]]\n"
     ]
    }
   ],
   "source": [
    "# Confusion Matrix \n",
    "\n",
    "from sklearn.metrics import confusion_matrix, classification_report\n",
    "\n",
    "confusion_matrix = confusion_matrix(y_test, y_pred)\n",
    "print(confusion_matrix)"
   ]
  },
  {
   "cell_type": "markdown",
   "id": "388d131c",
   "metadata": {},
   "source": [
    "The confusion matrix visualises the actual and predicted values of the data thereby depicting the performance of a supervised algorithm. Here, it can be inferred that there are 1,266 correct predictions and 380 incorrect predictions."
   ]
  },
  {
   "cell_type": "code",
   "execution_count": 73,
   "id": "3aec30f5",
   "metadata": {},
   "outputs": [
    {
     "name": "stdout",
     "output_type": "stream",
     "text": [
      "              precision    recall  f1-score   support\n",
      "\n",
      "           0       0.78      0.75      0.76       823\n",
      "           1       0.76      0.79      0.77       827\n",
      "\n",
      "    accuracy                           0.77      1650\n",
      "   macro avg       0.77      0.77      0.77      1650\n",
      "weighted avg       0.77      0.77      0.77      1650\n",
      "\n"
     ]
    }
   ],
   "source": [
    "# Classification report will summarise our model by computing precision, recall, f-measure and support \n",
    "\n",
    "print(classification_report(y_test, y_pred))"
   ]
  },
  {
   "cell_type": "markdown",
   "id": "b137401a",
   "metadata": {},
   "source": [
    "In classification report, high precision means that an algorithm returned more relevant results than irrelevant, while high recall means that an algorithm returned most of the relevant results. In the XGBoost model, there is a 77% precision that there are more relevant values and a 77% recall that most of the relevant values are included in our model."
   ]
  },
  {
   "cell_type": "markdown",
   "id": "df8feb86",
   "metadata": {},
   "source": [
    "I tried 4 models on the dataset: Logistic Regression, Random Forest, K-Nearest Neighbors and XGBoost. After analysing all models, we can see that both Random Forest Classifier and XGboost Classifier performing well. Further, on analyzing the confusion matrix, the Random Forest Classifier has made more correct predictions(1273) than XGB Classifier. So I am selecting the Random Forest model to predict the Twitter_test data."
   ]
  },
  {
   "cell_type": "code",
   "execution_count": 74,
   "id": "29824916",
   "metadata": {},
   "outputs": [],
   "source": [
    "y_pred_final = model_rf.predict(Twitter_test)"
   ]
  },
  {
   "cell_type": "code",
   "execution_count": 75,
   "id": "221be7b3",
   "metadata": {},
   "outputs": [],
   "source": [
    "Sample = pd.read_csv(\"sample_predictions.csv\")"
   ]
  },
  {
   "cell_type": "code",
   "execution_count": 76,
   "id": "5681aa26",
   "metadata": {},
   "outputs": [
    {
     "data": {
      "text/html": [
       "<div>\n",
       "<style scoped>\n",
       "    .dataframe tbody tr th:only-of-type {\n",
       "        vertical-align: middle;\n",
       "    }\n",
       "\n",
       "    .dataframe tbody tr th {\n",
       "        vertical-align: top;\n",
       "    }\n",
       "\n",
       "    .dataframe thead th {\n",
       "        text-align: right;\n",
       "    }\n",
       "</style>\n",
       "<table border=\"1\" class=\"dataframe\">\n",
       "  <thead>\n",
       "    <tr style=\"text-align: right;\">\n",
       "      <th></th>\n",
       "      <th>Id</th>\n",
       "      <th>Choice</th>\n",
       "    </tr>\n",
       "  </thead>\n",
       "  <tbody>\n",
       "    <tr>\n",
       "      <th>0</th>\n",
       "      <td>1</td>\n",
       "      <td>0.315025</td>\n",
       "    </tr>\n",
       "    <tr>\n",
       "      <th>1</th>\n",
       "      <td>2</td>\n",
       "      <td>0.474330</td>\n",
       "    </tr>\n",
       "    <tr>\n",
       "      <th>2</th>\n",
       "      <td>3</td>\n",
       "      <td>0.098802</td>\n",
       "    </tr>\n",
       "    <tr>\n",
       "      <th>3</th>\n",
       "      <td>4</td>\n",
       "      <td>0.137932</td>\n",
       "    </tr>\n",
       "    <tr>\n",
       "      <th>4</th>\n",
       "      <td>5</td>\n",
       "      <td>0.523677</td>\n",
       "    </tr>\n",
       "    <tr>\n",
       "      <th>...</th>\n",
       "      <td>...</td>\n",
       "      <td>...</td>\n",
       "    </tr>\n",
       "    <tr>\n",
       "      <th>5947</th>\n",
       "      <td>5948</td>\n",
       "      <td>0.300438</td>\n",
       "    </tr>\n",
       "    <tr>\n",
       "      <th>5948</th>\n",
       "      <td>5949</td>\n",
       "      <td>0.752105</td>\n",
       "    </tr>\n",
       "    <tr>\n",
       "      <th>5949</th>\n",
       "      <td>5950</td>\n",
       "      <td>0.470161</td>\n",
       "    </tr>\n",
       "    <tr>\n",
       "      <th>5950</th>\n",
       "      <td>5951</td>\n",
       "      <td>0.431636</td>\n",
       "    </tr>\n",
       "    <tr>\n",
       "      <th>5951</th>\n",
       "      <td>5952</td>\n",
       "      <td>0.411692</td>\n",
       "    </tr>\n",
       "  </tbody>\n",
       "</table>\n",
       "<p>5952 rows × 2 columns</p>\n",
       "</div>"
      ],
      "text/plain": [
       "        Id    Choice\n",
       "0        1  0.315025\n",
       "1        2  0.474330\n",
       "2        3  0.098802\n",
       "3        4  0.137932\n",
       "4        5  0.523677\n",
       "...    ...       ...\n",
       "5947  5948  0.300438\n",
       "5948  5949  0.752105\n",
       "5949  5950  0.470161\n",
       "5950  5951  0.431636\n",
       "5951  5952  0.411692\n",
       "\n",
       "[5952 rows x 2 columns]"
      ]
     },
     "execution_count": 76,
     "metadata": {},
     "output_type": "execute_result"
    }
   ],
   "source": [
    "Sample"
   ]
  },
  {
   "cell_type": "code",
   "execution_count": 77,
   "id": "a6c605e9",
   "metadata": {},
   "outputs": [],
   "source": [
    "Sample[\"Predicted\"] = y_pred_final"
   ]
  },
  {
   "cell_type": "code",
   "execution_count": 78,
   "id": "0b32c479",
   "metadata": {},
   "outputs": [
    {
     "data": {
      "text/html": [
       "<div>\n",
       "<style scoped>\n",
       "    .dataframe tbody tr th:only-of-type {\n",
       "        vertical-align: middle;\n",
       "    }\n",
       "\n",
       "    .dataframe tbody tr th {\n",
       "        vertical-align: top;\n",
       "    }\n",
       "\n",
       "    .dataframe thead th {\n",
       "        text-align: right;\n",
       "    }\n",
       "</style>\n",
       "<table border=\"1\" class=\"dataframe\">\n",
       "  <thead>\n",
       "    <tr style=\"text-align: right;\">\n",
       "      <th></th>\n",
       "      <th>Id</th>\n",
       "      <th>Choice</th>\n",
       "      <th>Predicted</th>\n",
       "    </tr>\n",
       "  </thead>\n",
       "  <tbody>\n",
       "    <tr>\n",
       "      <th>0</th>\n",
       "      <td>1</td>\n",
       "      <td>0.315025</td>\n",
       "      <td>0</td>\n",
       "    </tr>\n",
       "    <tr>\n",
       "      <th>1</th>\n",
       "      <td>2</td>\n",
       "      <td>0.474330</td>\n",
       "      <td>1</td>\n",
       "    </tr>\n",
       "    <tr>\n",
       "      <th>2</th>\n",
       "      <td>3</td>\n",
       "      <td>0.098802</td>\n",
       "      <td>0</td>\n",
       "    </tr>\n",
       "    <tr>\n",
       "      <th>3</th>\n",
       "      <td>4</td>\n",
       "      <td>0.137932</td>\n",
       "      <td>0</td>\n",
       "    </tr>\n",
       "    <tr>\n",
       "      <th>4</th>\n",
       "      <td>5</td>\n",
       "      <td>0.523677</td>\n",
       "      <td>0</td>\n",
       "    </tr>\n",
       "    <tr>\n",
       "      <th>...</th>\n",
       "      <td>...</td>\n",
       "      <td>...</td>\n",
       "      <td>...</td>\n",
       "    </tr>\n",
       "    <tr>\n",
       "      <th>5947</th>\n",
       "      <td>5948</td>\n",
       "      <td>0.300438</td>\n",
       "      <td>0</td>\n",
       "    </tr>\n",
       "    <tr>\n",
       "      <th>5948</th>\n",
       "      <td>5949</td>\n",
       "      <td>0.752105</td>\n",
       "      <td>1</td>\n",
       "    </tr>\n",
       "    <tr>\n",
       "      <th>5949</th>\n",
       "      <td>5950</td>\n",
       "      <td>0.470161</td>\n",
       "      <td>1</td>\n",
       "    </tr>\n",
       "    <tr>\n",
       "      <th>5950</th>\n",
       "      <td>5951</td>\n",
       "      <td>0.431636</td>\n",
       "      <td>1</td>\n",
       "    </tr>\n",
       "    <tr>\n",
       "      <th>5951</th>\n",
       "      <td>5952</td>\n",
       "      <td>0.411692</td>\n",
       "      <td>0</td>\n",
       "    </tr>\n",
       "  </tbody>\n",
       "</table>\n",
       "<p>5952 rows × 3 columns</p>\n",
       "</div>"
      ],
      "text/plain": [
       "        Id    Choice  Predicted\n",
       "0        1  0.315025          0\n",
       "1        2  0.474330          1\n",
       "2        3  0.098802          0\n",
       "3        4  0.137932          0\n",
       "4        5  0.523677          0\n",
       "...    ...       ...        ...\n",
       "5947  5948  0.300438          0\n",
       "5948  5949  0.752105          1\n",
       "5949  5950  0.470161          1\n",
       "5950  5951  0.431636          1\n",
       "5951  5952  0.411692          0\n",
       "\n",
       "[5952 rows x 3 columns]"
      ]
     },
     "execution_count": 78,
     "metadata": {},
     "output_type": "execute_result"
    }
   ],
   "source": [
    "Sample"
   ]
  },
  {
   "cell_type": "code",
   "execution_count": null,
   "id": "6d4459c1",
   "metadata": {},
   "outputs": [],
   "source": []
  }
 ],
 "metadata": {
  "kernelspec": {
   "display_name": "Python 3 (ipykernel)",
   "language": "python",
   "name": "python3"
  },
  "language_info": {
   "codemirror_mode": {
    "name": "ipython",
    "version": 3
   },
   "file_extension": ".py",
   "mimetype": "text/x-python",
   "name": "python",
   "nbconvert_exporter": "python",
   "pygments_lexer": "ipython3",
   "version": "3.9.13"
  }
 },
 "nbformat": 4,
 "nbformat_minor": 5
}
